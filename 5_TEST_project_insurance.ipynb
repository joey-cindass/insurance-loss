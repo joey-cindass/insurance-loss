{
 "cells": [
  {
   "cell_type": "markdown",
   "id": "6fae60a6-2552-4b76-9d96-5d151d7b8643",
   "metadata": {
    "editable": true,
    "slideshow": {
     "slide_type": ""
    },
    "tags": []
   },
   "source": [
    "#### In this notebook, we make predictions of LC, HALC, CS (made_claim), using external models built from other notebooks\n",
    "- RUN ORDER 5/5"
   ]
  },
  {
   "cell_type": "markdown",
   "id": "d061da55-e3d1-4355-8ffe-cc0c388ff06f",
   "metadata": {},
   "source": [
    "- Prediction Methodology: Two-step and chained modeling approach\n",
    "  - We use a two-step modeling approach\n",
    "    - We made a binary classification model to predict if LC is 0 or non 0\n",
    "      - Use SMOTE to balance the unbalanced data\n",
    "        - first, must convert LC to is_LC, where is_LC is a binary feature where 1 if LC != 0, else 0\n",
    "      - We train it all the data in insurance_train.csv for all features except HALC and made_claim (CS)\n",
    "    - We then parse the data in insurance_train.csv where LC is not equal to 0\n",
    "      - We build a random forest regressor based off of the parse data.\n",
    "      - We predict the actual value of LC if LC is not 0\n",
    "    - Doing this helps us handle the imbalanced data plus improves the accuracy on the non-zero classes, yet still predicts the majority class properly without harming the predictions of the minority class.\n",
    "  - Chained modeling approach:\n",
    "    - after we predict LC, we can then predict HALC (again, we don't use made_claim CS)\n",
    "    - We predict HALC with a random forest regressor fitted by the data where LC != 0\n",
    "    - If LC is 0, we assume HALC is also 0\n",
    "      - This assumption makes sense, as HALC = LC * Ratio\n",
    "    - Finally, we predict made_claim CS, using all of the data, where made_claim is a binary feature. "
   ]
  },
  {
   "cell_type": "markdown",
   "id": "ee253507-be39-48a5-898c-006db6714a96",
   "metadata": {},
   "source": [
    "- Rationale:\n",
    "  - Converting LC to is_LC is required for SMOTE as SMOTE only is useful for classification. We SMOTE because there is heavy class imbalance in LC\n",
    "  - Building regressor for when LC does not equal 0 prevents the model from being skewed towards predicting 0; will predict an actual number while maintaining integrity of 0's\n",
    "    - Using un-parsed data to predict LC will have all instances not equal to 0, which is not correct\n",
    "  - Chained modeling: We predict HALC after LC since HALC is dependent on LC\n",
    "  - Data leakage prevention: we do not predict made_claim CS during LC and HALC predictions, since made_claim CS is dependent on LC and HALC.\n",
    "    - This should improve accuracy, especially if LC and HALC are strong predictors"
   ]
  },
  {
   "cell_type": "markdown",
   "id": "2ede3792-c9e7-4a30-ba26-78a7741014c2",
   "metadata": {},
   "source": [
    "- Potential improvements:\n",
    "  - Tuning classification thresholds from the default 0.5 in is_LC\n",
    "  - HALC: instead of predicting HALC with LC, we predict the ratio of number of claims filed (X.18), then multiple hat(X.18) and hat(LC)\n",
    "    - Doing this may prevent conpounding errors, as hat(HALC) is currently heavily dependent on hat(LC)"
   ]
  },
  {
   "cell_type": "markdown",
   "id": "2d78362b-802e-49a6-8aba-ef025f5e86f8",
   "metadata": {},
   "source": [
    "- X.1 --> Internal Identification\n",
    "- X.2 --> pol_start: start date of the policy holder's contract (DD/MM/YYYY)\n",
    "- X.3 --> last_renewal: date of last contract renewal (DD/MM/YYYY)\n",
    "- X.4 --> next_renewal: date of next contract renewal (DD/MM/YYYY)\n",
    "- X.5 --> DOB: date of birth of the insured declared in policy\n",
    "- X.6 --> DL_issuance: Date of license insuance\\\n",
    "- X.10 -->  max_policies: Max number of policies that insured has ever had in force.\n",
    "- X.11 -->  max_products: Max number of products that insured has simultaneously held at any given point.\n",
    "- X.12  -->  canceled_policies: Number of policies canceled or terminated for nonpayment in the current year.\n",
    "-  X.13  -->  is_halfyearly: Last payment method of the reference policy (1: half-yearly, 0: annual).\n",
    "- X.14  --> net_premium: Net premium amount associated with the policy during the current year.\n",
    "- X.15  --> claim_cost: Total cost of claims for the insurance policy during the current year.\n",
    "- X.16  --> claim_count: Total number of claims incurred for the insurance policy during the current year.\n",
    "- X.17  --> total_claims: Total number of claims filed throughout the entire duration of the policy.\n",
    "- X.18  --> claim_ratio: Ratio of the number of claims filed to the total duration (years) of the policy in force.\n",
    "- X.19  --> risk_type: Type of risk (1: motorbikes, 2: vans, 3: passenger cars, 4: agricultural vehicles).\n",
    "- X.20 --> is_urban (1=urban, 0=rural): 0 for rural, 1 for urban (more than 30,000 inhabitants).\n",
    "- X.21  --> is_multidriver: 1 if multiple regular drivers are declared, 0 if only one driver is declared.\n",
    "- X.22  --> regis_year: Year of vehicle registration (YYYY).\n",
    "- X.23  --> horsepower: Vehicle power measured in horsepower.\n",
    "- X.24  --> cylinder_cap: Cylinder capacity of the vehicle.\n",
    "- X.25  --> market_value: Market value of the vehicle as of 31/12/2019.\n",
    "- X.26  --> door_count: Number of vehicle doors.\n",
    "- X.27  --> is_petrol (1= petrol, 0 =Diesel): Energy source used to power the vehicle (P: Petrol, D: Diesel).\n",
    "- X.28  --> vehicle_weight: Vehicle weight in kilograms.\n"
   ]
  },
  {
   "cell_type": "code",
   "execution_count": 6,
   "id": "036cd2b9-9b64-47a8-8e16-0439219a5da2",
   "metadata": {},
   "outputs": [],
   "source": [
    "import pandas as pd\n",
    "import numpy as np\n",
    "from sklearn.metrics import roc_curve, roc_auc_score\n",
    "import joblib\n",
    "import warnings\n",
    "warnings.filterwarnings('ignore')"
   ]
  },
  {
   "cell_type": "code",
   "execution_count": 7,
   "id": "69b043c5-4298-44aa-a060-855bf61a5342",
   "metadata": {},
   "outputs": [],
   "source": [
    "df = pd.read_csv(\"data/insurance_test.csv\")"
   ]
  },
  {
   "cell_type": "code",
   "execution_count": 8,
   "id": "59ec8380-4fef-4ef5-9f99-cefa90b05a59",
   "metadata": {},
   "outputs": [],
   "source": [
    "df.rename(columns={'X.27': 'is_petrol'}, inplace=True)"
   ]
  },
  {
   "cell_type": "code",
   "execution_count": 9,
   "id": "1305aa84-1287-43e9-8304-2d8b64b8bbd7",
   "metadata": {},
   "outputs": [],
   "source": [
    "df['is_petrol'] = df['is_petrol'].map({'P': 1, 'D': 0})"
   ]
  },
  {
   "cell_type": "code",
   "execution_count": 10,
   "id": "fa689f84-74b8-4d7f-8fb4-7d517a6ec25e",
   "metadata": {},
   "outputs": [],
   "source": [
    "df = df.rename(columns={\n",
    "    'X.2': 'pol_start', \n",
    "    'X.3': 'last_renewal',\n",
    "    'X.4': 'next_renewal',\n",
    "    'X.5': 'DOB',\n",
    "    'X.6': 'license_issue_date',\n",
    "    'X.7': 'is_channel_broker',\n",
    "    'X.8': 'total_pol_year',\n",
    "    'X.9': 'total_pol_held',\n",
    "    'X.10': 'max_policies',\n",
    "    'X.11': 'max_products',\n",
    "    'X.12': 'canceled_policies',\n",
    "    'X.13': 'is_halfyearly',\n",
    "    'X.14': 'net_premium',\n",
    "    'X.19': 'risk_type',\n",
    "    'X.20': 'is_urban',\n",
    "    'X.21': 'is_multidriver',\n",
    "    'X.22': 'regis_year',\n",
    "    'X.23': 'horsepower',\n",
    "    'X.24': 'cylinder_cap',\n",
    "    'X.25': 'market_value',\n",
    "    'X.26': 'door_count',\n",
    "    'X.28': 'vehicle_weight',\n",
    "})"
   ]
  },
  {
   "cell_type": "code",
   "execution_count": 11,
   "id": "51589f1e-458a-464b-9b37-f7520ba79f33",
   "metadata": {},
   "outputs": [],
   "source": [
    "dates_to_convert = ['pol_start', 'last_renewal', 'next_renewal', 'license_issue_date']"
   ]
  },
  {
   "cell_type": "code",
   "execution_count": 12,
   "id": "51f2fe73-bccd-4d1f-9301-86e02c4e2d5d",
   "metadata": {},
   "outputs": [],
   "source": [
    "for i in dates_to_convert:\n",
    "    df[i] = pd.to_datetime(df[i], format='%d/%m/%Y')\n",
    "    df[f'{i}_day'] = df[i].dt.day\n",
    "    df[f'{i}_month'] = df[i].dt.month\n",
    "    df[f'{i}_year'] = df[i].dt.year"
   ]
  },
  {
   "cell_type": "code",
   "execution_count": 13,
   "id": "f8213a48-d9f7-45e6-bb49-40b5c2af6db7",
   "metadata": {},
   "outputs": [],
   "source": [
    "df = df.drop(columns=dates_to_convert)"
   ]
  },
  {
   "cell_type": "code",
   "execution_count": 14,
   "id": "3a15014b-34ba-4cd7-8840-7b990d50979c",
   "metadata": {},
   "outputs": [],
   "source": [
    "df['DOB'] = pd.to_datetime(df['DOB'], format='%d/%m/%Y')"
   ]
  },
  {
   "cell_type": "code",
   "execution_count": 15,
   "id": "e52f3fa3-69db-4b9f-b7c6-d2b8960604cc",
   "metadata": {},
   "outputs": [],
   "source": [
    "reference_date = pd.to_datetime('31/12/2019', format='%d/%m/%Y')"
   ]
  },
  {
   "cell_type": "code",
   "execution_count": 16,
   "id": "f318f00d-f78a-43a5-a84a-254f2faf7c20",
   "metadata": {},
   "outputs": [],
   "source": [
    "df['Age'] = (reference_date - df['DOB']).dt.days // 365"
   ]
  },
  {
   "cell_type": "code",
   "execution_count": 17,
   "id": "30f74e09-cbf2-4c4f-ae01-31038c6df8a5",
   "metadata": {},
   "outputs": [],
   "source": [
    "df = df.drop(columns='DOB')"
   ]
  },
  {
   "cell_type": "code",
   "execution_count": 18,
   "id": "2911e5c2-aeb7-41fa-8f8b-0ef5414b9722",
   "metadata": {},
   "outputs": [],
   "source": [
    "df['is_youngin'] = (df['Age'] <= 24).astype(int)\n",
    "df['is_adult'] = ((df['Age'] >= 25) & (df['Age'] <= 39)).astype(int)\n",
    "df['is_middleaged'] = ((df['Age'] >= 40) & (df['Age'] <= 64)).astype(int)\n",
    "df['is_old'] = (df['Age'] >= 65).astype(int)"
   ]
  },
  {
   "cell_type": "code",
   "execution_count": 19,
   "id": "751048df-4788-4a54-98ff-717faa482046",
   "metadata": {},
   "outputs": [],
   "source": [
    "df = df.drop(columns='Age')"
   ]
  },
  {
   "cell_type": "code",
   "execution_count": 20,
   "id": "2c4aa5df-42c4-4d79-ad78-6649cd5c4164",
   "metadata": {},
   "outputs": [
    {
     "data": {
      "text/plain": [
       "Index(['is_channel_broker', 'total_pol_year', 'total_pol_held', 'max_policies',\n",
       "       'max_products', 'canceled_policies', 'is_halfyearly', 'net_premium',\n",
       "       'risk_type', 'is_urban', 'is_multidriver', 'regis_year', 'horsepower',\n",
       "       'cylinder_cap', 'market_value', 'door_count', 'is_petrol',\n",
       "       'vehicle_weight', 'pol_start_day', 'pol_start_month', 'pol_start_year',\n",
       "       'last_renewal_day', 'last_renewal_month', 'last_renewal_year',\n",
       "       'next_renewal_day', 'next_renewal_month', 'next_renewal_year',\n",
       "       'license_issue_date_day', 'license_issue_date_month',\n",
       "       'license_issue_date_year', 'is_youngin', 'is_adult', 'is_middleaged',\n",
       "       'is_old'],\n",
       "      dtype='object')"
      ]
     },
     "execution_count": 20,
     "metadata": {},
     "output_type": "execute_result"
    }
   ],
   "source": [
    "df.columns"
   ]
  },
  {
   "cell_type": "markdown",
   "id": "dcb8e763-5090-4ad8-8010-da8348d64b21",
   "metadata": {},
   "source": [
    "i have to apply the same thing did for the training df to the testing df. but for training, i have to include the logistic imputation for is_petrol NaNs. the testing data set does not have any NaNs. \n",
    "- We fit the model with X_train, y_train\n",
    "- then we predict with df_unseen\n",
    "- We take the values predicted from df_unseen, and if the value is a 1, we fit that instance in the other model (built by katie) to predict a continuous value"
   ]
  },
  {
   "cell_type": "code",
   "execution_count": 22,
   "id": "675268c5-a522-4026-965c-e0ba0256d694",
   "metadata": {},
   "outputs": [],
   "source": [
    "# load model that predicts if an instance is a 0 or 1\n",
    "# model from: _project_insurance_3.ipynb\n",
    "rf = joblib.load('temp.pkl')"
   ]
  },
  {
   "cell_type": "code",
   "execution_count": 23,
   "id": "9327d709-acae-4bd1-bcd7-edec76cb23b3",
   "metadata": {},
   "outputs": [],
   "source": [
    "# y_pred = predictions where instance is 0 or 1\n",
    "y_pred = rf.predict(df)\n",
    "y_proba = rf.predict_proba(df)[:, 1]"
   ]
  },
  {
   "cell_type": "code",
   "execution_count": 24,
   "id": "f175b841-8658-40c1-a6bc-16b55cfe5282",
   "metadata": {},
   "outputs": [
    {
     "data": {
      "text/plain": [
       "14882"
      ]
     },
     "execution_count": 24,
     "metadata": {},
     "output_type": "execute_result"
    }
   ],
   "source": [
    "len(y_pred[y_pred == 0])"
   ]
  },
  {
   "cell_type": "code",
   "execution_count": 25,
   "id": "142efc9a-88da-4b26-8887-93e03da6a852",
   "metadata": {},
   "outputs": [
    {
     "data": {
      "text/plain": [
       "905"
      ]
     },
     "execution_count": 25,
     "metadata": {},
     "output_type": "execute_result"
    }
   ],
   "source": [
    "len(y_pred[y_pred == 1])"
   ]
  },
  {
   "cell_type": "code",
   "execution_count": 26,
   "id": "d5b86ab7-af39-4757-8227-5c2b68c8a9c6",
   "metadata": {},
   "outputs": [
    {
     "data": {
      "text/plain": [
       "Index(['is_channel_broker', 'total_pol_year', 'total_pol_held', 'max_policies',\n",
       "       'max_products', 'canceled_policies', 'is_halfyearly', 'net_premium',\n",
       "       'risk_type', 'is_urban', 'is_multidriver', 'regis_year', 'horsepower',\n",
       "       'cylinder_cap', 'market_value', 'door_count', 'is_petrol',\n",
       "       'vehicle_weight', 'pol_start_day', 'pol_start_month', 'pol_start_year',\n",
       "       'last_renewal_day', 'last_renewal_month', 'last_renewal_year',\n",
       "       'next_renewal_day', 'next_renewal_month', 'next_renewal_year',\n",
       "       'license_issue_date_day', 'license_issue_date_month',\n",
       "       'license_issue_date_year', 'is_youngin', 'is_adult', 'is_middleaged',\n",
       "       'is_old'],\n",
       "      dtype='object')"
      ]
     },
     "execution_count": 26,
     "metadata": {},
     "output_type": "execute_result"
    }
   ],
   "source": [
    "df.columns"
   ]
  },
  {
   "cell_type": "markdown",
   "id": "80df0cc0-30a4-4b2f-87d7-6235d9568f29",
   "metadata": {},
   "source": [
    "my thought process: get rows where is_LC is 1. fit a linear regression model to get continuous values. fit those continuous values to predict HALC. then use all of that information to predict if they made a claim or not"
   ]
  },
  {
   "cell_type": "code",
   "execution_count": 28,
   "id": "e6798e32-646e-44ed-9237-b792f3505ef7",
   "metadata": {},
   "outputs": [
    {
     "data": {
      "text/plain": [
       "15787"
      ]
     },
     "execution_count": 28,
     "metadata": {},
     "output_type": "execute_result"
    }
   ],
   "source": [
    "len(y_pred)"
   ]
  },
  {
   "cell_type": "code",
   "execution_count": 29,
   "id": "11c47f61-7a59-4ff6-87d1-c861f6f62bd7",
   "metadata": {},
   "outputs": [
    {
     "data": {
      "text/plain": [
       "15787"
      ]
     },
     "execution_count": 29,
     "metadata": {},
     "output_type": "execute_result"
    }
   ],
   "source": [
    "len(df)"
   ]
  },
  {
   "cell_type": "code",
   "execution_count": 30,
   "id": "e0b4b03a-e95f-4f39-bda3-6a2306c8c90f",
   "metadata": {},
   "outputs": [],
   "source": [
    "# take binary predictions and add them into the data set\n",
    "df['is_LC'] = y_pred"
   ]
  },
  {
   "cell_type": "markdown",
   "id": "ff09db8f-36c0-48a5-a222-b98c200246ef",
   "metadata": {},
   "source": [
    "Now that we have the instances where LC is 0, let's find out what the values are if LC is not 0"
   ]
  },
  {
   "cell_type": "code",
   "execution_count": 32,
   "id": "42956b3f-7f13-409f-9c2b-7817f491a97d",
   "metadata": {},
   "outputs": [],
   "source": [
    "# parse data where LC is not 0\n",
    "df_is_LC = df[df['is_LC'] == 1]"
   ]
  },
  {
   "cell_type": "code",
   "execution_count": 33,
   "id": "fb82231f-163d-4631-9945-d284e666cbf4",
   "metadata": {},
   "outputs": [],
   "source": [
    "# now, we need to fit a tree based model\n",
    "# predict value of LC in df_is_LC "
   ]
  },
  {
   "cell_type": "code",
   "execution_count": 34,
   "id": "390e4e35-0b1a-4a05-941b-337a7baadb3c",
   "metadata": {},
   "outputs": [],
   "source": [
    "# next steps, build a tree based model from training data. \n",
    "# use that model on df_is_LC"
   ]
  },
  {
   "cell_type": "code",
   "execution_count": 35,
   "id": "fae136ef-cc47-48e6-9f31-6f0732dddd14",
   "metadata": {},
   "outputs": [],
   "source": [
    "# load the model that predicts the value of LC if LC is not 0\n",
    "# model from: building_RF_for_LC.ipynb\n",
    "another_rf = joblib.load('predict_LC.pkl')"
   ]
  },
  {
   "cell_type": "code",
   "execution_count": 36,
   "id": "f01876ed-14d6-466c-82fb-f2db23403a06",
   "metadata": {},
   "outputs": [],
   "source": [
    "df_for_pred = df_is_LC.drop(columns=['is_LC'])"
   ]
  },
  {
   "cell_type": "code",
   "execution_count": 37,
   "id": "c4ef395a-e0e9-4490-a3f2-ee4d3433ae89",
   "metadata": {},
   "outputs": [],
   "source": [
    "y_pred = another_rf.predict(df_for_pred)\n",
    "# y_proba = another_rf.predict_proba(df_for_pred)[:, 1]"
   ]
  },
  {
   "cell_type": "code",
   "execution_count": 38,
   "id": "215c7a64-60ef-459b-bd4d-b675d1d51a6d",
   "metadata": {},
   "outputs": [
    {
     "data": {
      "text/plain": [
       "array([537.00004167, 303.00840333, 347.30058   , 313.69362833])"
      ]
     },
     "execution_count": 38,
     "metadata": {},
     "output_type": "execute_result"
    }
   ],
   "source": [
    "# these are the predicted values of LC if it is not 0\n",
    "y_pred[0:4] # truncated"
   ]
  },
  {
   "cell_type": "code",
   "execution_count": 39,
   "id": "315b7373-e99b-40d3-80d4-0368026c1395",
   "metadata": {},
   "outputs": [],
   "source": [
    "# now i need to put this data back in the original dataset with the 0s, and ensure they are in order"
   ]
  },
  {
   "cell_type": "code",
   "execution_count": 40,
   "id": "8ec75cc1-b676-4830-96a0-010d9005aeb5",
   "metadata": {},
   "outputs": [],
   "source": [
    "temp = df['is_LC'] == 1\n",
    "df.loc[temp, 'is_LC'] = y_pred"
   ]
  },
  {
   "cell_type": "code",
   "execution_count": 41,
   "id": "56782848-0bfe-40e8-92ff-2092afaf1e87",
   "metadata": {},
   "outputs": [
    {
     "data": {
      "text/plain": [
       "109.52390436813194"
      ]
     },
     "execution_count": 41,
     "metadata": {},
     "output_type": "execute_result"
    }
   ],
   "source": [
    "min(df[df['is_LC'] != 0]['is_LC'])"
   ]
  },
  {
   "cell_type": "code",
   "execution_count": 42,
   "id": "6feb3840-2d99-4f8f-801c-3d6c4d3fa223",
   "metadata": {},
   "outputs": [],
   "source": [
    "# we are renaming the column is_LC BACK TO LC because it now contains 0's and actual numbers\n",
    "df = df.rename(columns={'is_LC': 'LC'})"
   ]
  },
  {
   "cell_type": "code",
   "execution_count": 43,
   "id": "d726740f-4dde-4837-bdfa-dc9995901257",
   "metadata": {},
   "outputs": [],
   "source": [
    "# df['LC'].to_csv(\"LC\", index=False)"
   ]
  },
  {
   "cell_type": "code",
   "execution_count": 44,
   "id": "2d064e27-7e39-48af-b771-3a75f02d1935",
   "metadata": {},
   "outputs": [],
   "source": [
    "# Now that we have LC, we can use it to help predict HALC\n",
    "# NOTE: We could always predict X.18 and just multiply that by our predicted LC, but we opted to just directly predict HALC\n",
    "# model from: building_RF_for_HALC.ipynb\n",
    "rf_HALC = joblib.load('predict_HALC.pkl')"
   ]
  },
  {
   "cell_type": "code",
   "execution_count": 45,
   "id": "0d9b432a-cc78-4311-adb7-bed67be34539",
   "metadata": {},
   "outputs": [],
   "source": [
    "# extract where LC does not equal 0\n",
    "# again, we only want to make predictions where LC is not 0. \n",
    "# why is that? because if LC is 0, we assume that HALC must also be 0. \n",
    "# including the data where LC is already 0 is noisy and redundant since we only care about instances where LC (and by extention HALC) does not equal 0\n",
    "df_has_LC = df[df['LC'] != 0]"
   ]
  },
  {
   "cell_type": "code",
   "execution_count": 46,
   "id": "924660a5-37ce-4bb7-9fa9-e660fdcd33f3",
   "metadata": {},
   "outputs": [
    {
     "data": {
      "text/html": [
       "<div>\n",
       "<style scoped>\n",
       "    .dataframe tbody tr th:only-of-type {\n",
       "        vertical-align: middle;\n",
       "    }\n",
       "\n",
       "    .dataframe tbody tr th {\n",
       "        vertical-align: top;\n",
       "    }\n",
       "\n",
       "    .dataframe thead th {\n",
       "        text-align: right;\n",
       "    }\n",
       "</style>\n",
       "<table border=\"1\" class=\"dataframe\">\n",
       "  <thead>\n",
       "    <tr style=\"text-align: right;\">\n",
       "      <th></th>\n",
       "      <th>is_channel_broker</th>\n",
       "      <th>total_pol_year</th>\n",
       "      <th>total_pol_held</th>\n",
       "      <th>max_policies</th>\n",
       "      <th>max_products</th>\n",
       "      <th>canceled_policies</th>\n",
       "      <th>is_halfyearly</th>\n",
       "      <th>net_premium</th>\n",
       "      <th>risk_type</th>\n",
       "      <th>is_urban</th>\n",
       "      <th>...</th>\n",
       "      <th>next_renewal_month</th>\n",
       "      <th>next_renewal_year</th>\n",
       "      <th>license_issue_date_day</th>\n",
       "      <th>license_issue_date_month</th>\n",
       "      <th>license_issue_date_year</th>\n",
       "      <th>is_youngin</th>\n",
       "      <th>is_adult</th>\n",
       "      <th>is_middleaged</th>\n",
       "      <th>is_old</th>\n",
       "      <th>LC</th>\n",
       "    </tr>\n",
       "  </thead>\n",
       "  <tbody>\n",
       "    <tr>\n",
       "      <th>16</th>\n",
       "      <td>1</td>\n",
       "      <td>3</td>\n",
       "      <td>1</td>\n",
       "      <td>1</td>\n",
       "      <td>1</td>\n",
       "      <td>0</td>\n",
       "      <td>0</td>\n",
       "      <td>159.66</td>\n",
       "      <td>1</td>\n",
       "      <td>0</td>\n",
       "      <td>...</td>\n",
       "      <td>2</td>\n",
       "      <td>2017</td>\n",
       "      <td>21</td>\n",
       "      <td>3</td>\n",
       "      <td>1991</td>\n",
       "      <td>0</td>\n",
       "      <td>0</td>\n",
       "      <td>1</td>\n",
       "      <td>0</td>\n",
       "      <td>537.000042</td>\n",
       "    </tr>\n",
       "    <tr>\n",
       "      <th>34</th>\n",
       "      <td>0</td>\n",
       "      <td>2</td>\n",
       "      <td>2</td>\n",
       "      <td>2</td>\n",
       "      <td>1</td>\n",
       "      <td>0</td>\n",
       "      <td>0</td>\n",
       "      <td>376.22</td>\n",
       "      <td>2</td>\n",
       "      <td>0</td>\n",
       "      <td>...</td>\n",
       "      <td>1</td>\n",
       "      <td>2019</td>\n",
       "      <td>6</td>\n",
       "      <td>8</td>\n",
       "      <td>2009</td>\n",
       "      <td>0</td>\n",
       "      <td>1</td>\n",
       "      <td>0</td>\n",
       "      <td>0</td>\n",
       "      <td>303.008403</td>\n",
       "    </tr>\n",
       "    <tr>\n",
       "      <th>41</th>\n",
       "      <td>0</td>\n",
       "      <td>2</td>\n",
       "      <td>1</td>\n",
       "      <td>2</td>\n",
       "      <td>1</td>\n",
       "      <td>0</td>\n",
       "      <td>0</td>\n",
       "      <td>270.61</td>\n",
       "      <td>3</td>\n",
       "      <td>0</td>\n",
       "      <td>...</td>\n",
       "      <td>4</td>\n",
       "      <td>2019</td>\n",
       "      <td>7</td>\n",
       "      <td>7</td>\n",
       "      <td>1994</td>\n",
       "      <td>0</td>\n",
       "      <td>0</td>\n",
       "      <td>1</td>\n",
       "      <td>0</td>\n",
       "      <td>347.300580</td>\n",
       "    </tr>\n",
       "    <tr>\n",
       "      <th>92</th>\n",
       "      <td>1</td>\n",
       "      <td>5</td>\n",
       "      <td>1</td>\n",
       "      <td>1</td>\n",
       "      <td>1</td>\n",
       "      <td>0</td>\n",
       "      <td>0</td>\n",
       "      <td>343.30</td>\n",
       "      <td>2</td>\n",
       "      <td>0</td>\n",
       "      <td>...</td>\n",
       "      <td>1</td>\n",
       "      <td>2017</td>\n",
       "      <td>15</td>\n",
       "      <td>1</td>\n",
       "      <td>1992</td>\n",
       "      <td>0</td>\n",
       "      <td>0</td>\n",
       "      <td>1</td>\n",
       "      <td>0</td>\n",
       "      <td>313.693628</td>\n",
       "    </tr>\n",
       "    <tr>\n",
       "      <th>178</th>\n",
       "      <td>0</td>\n",
       "      <td>23</td>\n",
       "      <td>1</td>\n",
       "      <td>3</td>\n",
       "      <td>1</td>\n",
       "      <td>0</td>\n",
       "      <td>0</td>\n",
       "      <td>401.42</td>\n",
       "      <td>3</td>\n",
       "      <td>0</td>\n",
       "      <td>...</td>\n",
       "      <td>11</td>\n",
       "      <td>2016</td>\n",
       "      <td>24</td>\n",
       "      <td>1</td>\n",
       "      <td>1996</td>\n",
       "      <td>0</td>\n",
       "      <td>0</td>\n",
       "      <td>1</td>\n",
       "      <td>0</td>\n",
       "      <td>532.249163</td>\n",
       "    </tr>\n",
       "    <tr>\n",
       "      <th>...</th>\n",
       "      <td>...</td>\n",
       "      <td>...</td>\n",
       "      <td>...</td>\n",
       "      <td>...</td>\n",
       "      <td>...</td>\n",
       "      <td>...</td>\n",
       "      <td>...</td>\n",
       "      <td>...</td>\n",
       "      <td>...</td>\n",
       "      <td>...</td>\n",
       "      <td>...</td>\n",
       "      <td>...</td>\n",
       "      <td>...</td>\n",
       "      <td>...</td>\n",
       "      <td>...</td>\n",
       "      <td>...</td>\n",
       "      <td>...</td>\n",
       "      <td>...</td>\n",
       "      <td>...</td>\n",
       "      <td>...</td>\n",
       "      <td>...</td>\n",
       "    </tr>\n",
       "    <tr>\n",
       "      <th>15740</th>\n",
       "      <td>1</td>\n",
       "      <td>4</td>\n",
       "      <td>2</td>\n",
       "      <td>2</td>\n",
       "      <td>1</td>\n",
       "      <td>0</td>\n",
       "      <td>1</td>\n",
       "      <td>287.12</td>\n",
       "      <td>3</td>\n",
       "      <td>1</td>\n",
       "      <td>...</td>\n",
       "      <td>1</td>\n",
       "      <td>2017</td>\n",
       "      <td>9</td>\n",
       "      <td>5</td>\n",
       "      <td>2008</td>\n",
       "      <td>0</td>\n",
       "      <td>0</td>\n",
       "      <td>1</td>\n",
       "      <td>0</td>\n",
       "      <td>271.486565</td>\n",
       "    </tr>\n",
       "    <tr>\n",
       "      <th>15757</th>\n",
       "      <td>1</td>\n",
       "      <td>2</td>\n",
       "      <td>1</td>\n",
       "      <td>1</td>\n",
       "      <td>1</td>\n",
       "      <td>0</td>\n",
       "      <td>1</td>\n",
       "      <td>338.14</td>\n",
       "      <td>3</td>\n",
       "      <td>1</td>\n",
       "      <td>...</td>\n",
       "      <td>9</td>\n",
       "      <td>2018</td>\n",
       "      <td>1</td>\n",
       "      <td>2</td>\n",
       "      <td>2001</td>\n",
       "      <td>0</td>\n",
       "      <td>1</td>\n",
       "      <td>0</td>\n",
       "      <td>0</td>\n",
       "      <td>328.238133</td>\n",
       "    </tr>\n",
       "    <tr>\n",
       "      <th>15762</th>\n",
       "      <td>0</td>\n",
       "      <td>5</td>\n",
       "      <td>1</td>\n",
       "      <td>2</td>\n",
       "      <td>2</td>\n",
       "      <td>0</td>\n",
       "      <td>1</td>\n",
       "      <td>260.73</td>\n",
       "      <td>3</td>\n",
       "      <td>0</td>\n",
       "      <td>...</td>\n",
       "      <td>12</td>\n",
       "      <td>2018</td>\n",
       "      <td>2</td>\n",
       "      <td>9</td>\n",
       "      <td>1993</td>\n",
       "      <td>0</td>\n",
       "      <td>0</td>\n",
       "      <td>1</td>\n",
       "      <td>0</td>\n",
       "      <td>404.580446</td>\n",
       "    </tr>\n",
       "    <tr>\n",
       "      <th>15771</th>\n",
       "      <td>1</td>\n",
       "      <td>3</td>\n",
       "      <td>1</td>\n",
       "      <td>1</td>\n",
       "      <td>1</td>\n",
       "      <td>0</td>\n",
       "      <td>1</td>\n",
       "      <td>302.09</td>\n",
       "      <td>3</td>\n",
       "      <td>1</td>\n",
       "      <td>...</td>\n",
       "      <td>12</td>\n",
       "      <td>2016</td>\n",
       "      <td>11</td>\n",
       "      <td>9</td>\n",
       "      <td>1991</td>\n",
       "      <td>0</td>\n",
       "      <td>0</td>\n",
       "      <td>1</td>\n",
       "      <td>0</td>\n",
       "      <td>476.820043</td>\n",
       "    </tr>\n",
       "    <tr>\n",
       "      <th>15776</th>\n",
       "      <td>1</td>\n",
       "      <td>6</td>\n",
       "      <td>1</td>\n",
       "      <td>1</td>\n",
       "      <td>1</td>\n",
       "      <td>0</td>\n",
       "      <td>0</td>\n",
       "      <td>316.43</td>\n",
       "      <td>2</td>\n",
       "      <td>0</td>\n",
       "      <td>...</td>\n",
       "      <td>9</td>\n",
       "      <td>2017</td>\n",
       "      <td>9</td>\n",
       "      <td>5</td>\n",
       "      <td>2006</td>\n",
       "      <td>0</td>\n",
       "      <td>0</td>\n",
       "      <td>1</td>\n",
       "      <td>0</td>\n",
       "      <td>480.325347</td>\n",
       "    </tr>\n",
       "  </tbody>\n",
       "</table>\n",
       "<p>905 rows × 35 columns</p>\n",
       "</div>"
      ],
      "text/plain": [
       "       is_channel_broker  total_pol_year  total_pol_held  max_policies  \\\n",
       "16                     1               3               1             1   \n",
       "34                     0               2               2             2   \n",
       "41                     0               2               1             2   \n",
       "92                     1               5               1             1   \n",
       "178                    0              23               1             3   \n",
       "...                  ...             ...             ...           ...   \n",
       "15740                  1               4               2             2   \n",
       "15757                  1               2               1             1   \n",
       "15762                  0               5               1             2   \n",
       "15771                  1               3               1             1   \n",
       "15776                  1               6               1             1   \n",
       "\n",
       "       max_products  canceled_policies  is_halfyearly  net_premium  risk_type  \\\n",
       "16                1                  0              0       159.66          1   \n",
       "34                1                  0              0       376.22          2   \n",
       "41                1                  0              0       270.61          3   \n",
       "92                1                  0              0       343.30          2   \n",
       "178               1                  0              0       401.42          3   \n",
       "...             ...                ...            ...          ...        ...   \n",
       "15740             1                  0              1       287.12          3   \n",
       "15757             1                  0              1       338.14          3   \n",
       "15762             2                  0              1       260.73          3   \n",
       "15771             1                  0              1       302.09          3   \n",
       "15776             1                  0              0       316.43          2   \n",
       "\n",
       "       is_urban  ...  next_renewal_month  next_renewal_year  \\\n",
       "16            0  ...                   2               2017   \n",
       "34            0  ...                   1               2019   \n",
       "41            0  ...                   4               2019   \n",
       "92            0  ...                   1               2017   \n",
       "178           0  ...                  11               2016   \n",
       "...         ...  ...                 ...                ...   \n",
       "15740         1  ...                   1               2017   \n",
       "15757         1  ...                   9               2018   \n",
       "15762         0  ...                  12               2018   \n",
       "15771         1  ...                  12               2016   \n",
       "15776         0  ...                   9               2017   \n",
       "\n",
       "       license_issue_date_day  license_issue_date_month  \\\n",
       "16                         21                         3   \n",
       "34                          6                         8   \n",
       "41                          7                         7   \n",
       "92                         15                         1   \n",
       "178                        24                         1   \n",
       "...                       ...                       ...   \n",
       "15740                       9                         5   \n",
       "15757                       1                         2   \n",
       "15762                       2                         9   \n",
       "15771                      11                         9   \n",
       "15776                       9                         5   \n",
       "\n",
       "       license_issue_date_year  is_youngin  is_adult  is_middleaged  is_old  \\\n",
       "16                        1991           0         0              1       0   \n",
       "34                        2009           0         1              0       0   \n",
       "41                        1994           0         0              1       0   \n",
       "92                        1992           0         0              1       0   \n",
       "178                       1996           0         0              1       0   \n",
       "...                        ...         ...       ...            ...     ...   \n",
       "15740                     2008           0         0              1       0   \n",
       "15757                     2001           0         1              0       0   \n",
       "15762                     1993           0         0              1       0   \n",
       "15771                     1991           0         0              1       0   \n",
       "15776                     2006           0         0              1       0   \n",
       "\n",
       "               LC  \n",
       "16     537.000042  \n",
       "34     303.008403  \n",
       "41     347.300580  \n",
       "92     313.693628  \n",
       "178    532.249163  \n",
       "...           ...  \n",
       "15740  271.486565  \n",
       "15757  328.238133  \n",
       "15762  404.580446  \n",
       "15771  476.820043  \n",
       "15776  480.325347  \n",
       "\n",
       "[905 rows x 35 columns]"
      ]
     },
     "execution_count": 46,
     "metadata": {},
     "output_type": "execute_result"
    }
   ],
   "source": [
    "df_has_LC"
   ]
  },
  {
   "cell_type": "code",
   "execution_count": 47,
   "id": "9c22b5cc-9d56-4d24-bae6-36d72a087a16",
   "metadata": {},
   "outputs": [],
   "source": [
    "# BEFORE FITTING, COLUMNS MUST BE IN THE SAME ORDER\n",
    "\n",
    "y_pred_HALC = rf_HALC.predict(df_has_LC)"
   ]
  },
  {
   "cell_type": "code",
   "execution_count": 48,
   "id": "5e30279b-5e42-44d3-acba-d6541ba0e863",
   "metadata": {},
   "outputs": [
    {
     "data": {
      "text/plain": [
       "905"
      ]
     },
     "execution_count": 48,
     "metadata": {},
     "output_type": "execute_result"
    }
   ],
   "source": [
    "len(y_pred_HALC)"
   ]
  },
  {
   "cell_type": "code",
   "execution_count": 49,
   "id": "1b6cb795-e8b7-4516-a259-3a346f26ce9b",
   "metadata": {},
   "outputs": [],
   "source": [
    "# initializing HALC column\n",
    "df['HALC'] = 0"
   ]
  },
  {
   "cell_type": "code",
   "execution_count": 50,
   "id": "39b91d71-b222-4c91-800f-30f5695abc8c",
   "metadata": {},
   "outputs": [],
   "source": [
    "# IMPORTANT: in the instance that LC is not 0, go to the HALC column (same row), and change 0 into the value of the respective y_pred_HALC index\n",
    "df.loc[df['LC'] != 0, 'HALC'] = y_pred_HALC"
   ]
  },
  {
   "cell_type": "code",
   "execution_count": 51,
   "id": "45f2caee-5afc-4b46-9cb3-de524ee92818",
   "metadata": {},
   "outputs": [
    {
     "data": {
      "text/plain": [
       "38.73580581637519"
      ]
     },
     "execution_count": 51,
     "metadata": {},
     "output_type": "execute_result"
    }
   ],
   "source": [
    "np.mean(df['HALC'])"
   ]
  },
  {
   "cell_type": "code",
   "execution_count": 52,
   "id": "ae8ac362-2cb6-401c-b732-6f2dd5ddbca7",
   "metadata": {},
   "outputs": [
    {
     "data": {
      "text/plain": [
       "19.834369427714513"
      ]
     },
     "execution_count": 52,
     "metadata": {},
     "output_type": "execute_result"
    }
   ],
   "source": [
    "np.mean(df['LC'])"
   ]
  },
  {
   "cell_type": "code",
   "execution_count": 53,
   "id": "2f0786ab-63b3-4017-bc7e-5ccc671cc1e2",
   "metadata": {},
   "outputs": [],
   "source": [
    "df[['LC', 'HALC']].to_csv('LC_HALC_predictions',index=False)"
   ]
  },
  {
   "cell_type": "code",
   "execution_count": 54,
   "id": "cce43434-fe7c-499c-bbf9-902434dfe11f",
   "metadata": {},
   "outputs": [
    {
     "data": {
      "text/html": [
       "<div>\n",
       "<style scoped>\n",
       "    .dataframe tbody tr th:only-of-type {\n",
       "        vertical-align: middle;\n",
       "    }\n",
       "\n",
       "    .dataframe tbody tr th {\n",
       "        vertical-align: top;\n",
       "    }\n",
       "\n",
       "    .dataframe thead th {\n",
       "        text-align: right;\n",
       "    }\n",
       "</style>\n",
       "<table border=\"1\" class=\"dataframe\">\n",
       "  <thead>\n",
       "    <tr style=\"text-align: right;\">\n",
       "      <th></th>\n",
       "      <th>is_channel_broker</th>\n",
       "      <th>total_pol_year</th>\n",
       "      <th>total_pol_held</th>\n",
       "      <th>max_policies</th>\n",
       "      <th>max_products</th>\n",
       "      <th>canceled_policies</th>\n",
       "      <th>is_halfyearly</th>\n",
       "      <th>net_premium</th>\n",
       "      <th>risk_type</th>\n",
       "      <th>is_urban</th>\n",
       "      <th>...</th>\n",
       "      <th>next_renewal_year</th>\n",
       "      <th>license_issue_date_day</th>\n",
       "      <th>license_issue_date_month</th>\n",
       "      <th>license_issue_date_year</th>\n",
       "      <th>is_youngin</th>\n",
       "      <th>is_adult</th>\n",
       "      <th>is_middleaged</th>\n",
       "      <th>is_old</th>\n",
       "      <th>LC</th>\n",
       "      <th>HALC</th>\n",
       "    </tr>\n",
       "  </thead>\n",
       "  <tbody>\n",
       "    <tr>\n",
       "      <th>0</th>\n",
       "      <td>0</td>\n",
       "      <td>2</td>\n",
       "      <td>2</td>\n",
       "      <td>2</td>\n",
       "      <td>1</td>\n",
       "      <td>1</td>\n",
       "      <td>0</td>\n",
       "      <td>240.76</td>\n",
       "      <td>3</td>\n",
       "      <td>1</td>\n",
       "      <td>...</td>\n",
       "      <td>2019</td>\n",
       "      <td>3</td>\n",
       "      <td>2</td>\n",
       "      <td>2011</td>\n",
       "      <td>0</td>\n",
       "      <td>1</td>\n",
       "      <td>0</td>\n",
       "      <td>0</td>\n",
       "      <td>0.0</td>\n",
       "      <td>0.0</td>\n",
       "    </tr>\n",
       "    <tr>\n",
       "      <th>1</th>\n",
       "      <td>0</td>\n",
       "      <td>2</td>\n",
       "      <td>1</td>\n",
       "      <td>1</td>\n",
       "      <td>1</td>\n",
       "      <td>1</td>\n",
       "      <td>1</td>\n",
       "      <td>367.97</td>\n",
       "      <td>3</td>\n",
       "      <td>0</td>\n",
       "      <td>...</td>\n",
       "      <td>2017</td>\n",
       "      <td>12</td>\n",
       "      <td>8</td>\n",
       "      <td>1966</td>\n",
       "      <td>0</td>\n",
       "      <td>0</td>\n",
       "      <td>0</td>\n",
       "      <td>1</td>\n",
       "      <td>0.0</td>\n",
       "      <td>0.0</td>\n",
       "    </tr>\n",
       "    <tr>\n",
       "      <th>2</th>\n",
       "      <td>0</td>\n",
       "      <td>1</td>\n",
       "      <td>4</td>\n",
       "      <td>4</td>\n",
       "      <td>2</td>\n",
       "      <td>0</td>\n",
       "      <td>0</td>\n",
       "      <td>291.90</td>\n",
       "      <td>3</td>\n",
       "      <td>0</td>\n",
       "      <td>...</td>\n",
       "      <td>2019</td>\n",
       "      <td>2</td>\n",
       "      <td>9</td>\n",
       "      <td>1977</td>\n",
       "      <td>0</td>\n",
       "      <td>0</td>\n",
       "      <td>1</td>\n",
       "      <td>0</td>\n",
       "      <td>0.0</td>\n",
       "      <td>0.0</td>\n",
       "    </tr>\n",
       "    <tr>\n",
       "      <th>3</th>\n",
       "      <td>1</td>\n",
       "      <td>5</td>\n",
       "      <td>1</td>\n",
       "      <td>1</td>\n",
       "      <td>1</td>\n",
       "      <td>0</td>\n",
       "      <td>0</td>\n",
       "      <td>303.28</td>\n",
       "      <td>2</td>\n",
       "      <td>1</td>\n",
       "      <td>...</td>\n",
       "      <td>2019</td>\n",
       "      <td>29</td>\n",
       "      <td>10</td>\n",
       "      <td>1980</td>\n",
       "      <td>0</td>\n",
       "      <td>0</td>\n",
       "      <td>1</td>\n",
       "      <td>0</td>\n",
       "      <td>0.0</td>\n",
       "      <td>0.0</td>\n",
       "    </tr>\n",
       "    <tr>\n",
       "      <th>4</th>\n",
       "      <td>0</td>\n",
       "      <td>3</td>\n",
       "      <td>1</td>\n",
       "      <td>1</td>\n",
       "      <td>1</td>\n",
       "      <td>1</td>\n",
       "      <td>0</td>\n",
       "      <td>333.30</td>\n",
       "      <td>3</td>\n",
       "      <td>0</td>\n",
       "      <td>...</td>\n",
       "      <td>2018</td>\n",
       "      <td>2</td>\n",
       "      <td>8</td>\n",
       "      <td>2006</td>\n",
       "      <td>0</td>\n",
       "      <td>1</td>\n",
       "      <td>0</td>\n",
       "      <td>0</td>\n",
       "      <td>0.0</td>\n",
       "      <td>0.0</td>\n",
       "    </tr>\n",
       "    <tr>\n",
       "      <th>...</th>\n",
       "      <td>...</td>\n",
       "      <td>...</td>\n",
       "      <td>...</td>\n",
       "      <td>...</td>\n",
       "      <td>...</td>\n",
       "      <td>...</td>\n",
       "      <td>...</td>\n",
       "      <td>...</td>\n",
       "      <td>...</td>\n",
       "      <td>...</td>\n",
       "      <td>...</td>\n",
       "      <td>...</td>\n",
       "      <td>...</td>\n",
       "      <td>...</td>\n",
       "      <td>...</td>\n",
       "      <td>...</td>\n",
       "      <td>...</td>\n",
       "      <td>...</td>\n",
       "      <td>...</td>\n",
       "      <td>...</td>\n",
       "      <td>...</td>\n",
       "    </tr>\n",
       "    <tr>\n",
       "      <th>15782</th>\n",
       "      <td>0</td>\n",
       "      <td>8</td>\n",
       "      <td>1</td>\n",
       "      <td>2</td>\n",
       "      <td>1</td>\n",
       "      <td>1</td>\n",
       "      <td>0</td>\n",
       "      <td>315.11</td>\n",
       "      <td>3</td>\n",
       "      <td>0</td>\n",
       "      <td>...</td>\n",
       "      <td>2018</td>\n",
       "      <td>7</td>\n",
       "      <td>12</td>\n",
       "      <td>1984</td>\n",
       "      <td>0</td>\n",
       "      <td>0</td>\n",
       "      <td>1</td>\n",
       "      <td>0</td>\n",
       "      <td>0.0</td>\n",
       "      <td>0.0</td>\n",
       "    </tr>\n",
       "    <tr>\n",
       "      <th>15783</th>\n",
       "      <td>1</td>\n",
       "      <td>3</td>\n",
       "      <td>2</td>\n",
       "      <td>2</td>\n",
       "      <td>1</td>\n",
       "      <td>0</td>\n",
       "      <td>0</td>\n",
       "      <td>207.11</td>\n",
       "      <td>3</td>\n",
       "      <td>0</td>\n",
       "      <td>...</td>\n",
       "      <td>2018</td>\n",
       "      <td>12</td>\n",
       "      <td>7</td>\n",
       "      <td>1990</td>\n",
       "      <td>0</td>\n",
       "      <td>0</td>\n",
       "      <td>1</td>\n",
       "      <td>0</td>\n",
       "      <td>0.0</td>\n",
       "      <td>0.0</td>\n",
       "    </tr>\n",
       "    <tr>\n",
       "      <th>15784</th>\n",
       "      <td>1</td>\n",
       "      <td>5</td>\n",
       "      <td>1</td>\n",
       "      <td>2</td>\n",
       "      <td>1</td>\n",
       "      <td>1</td>\n",
       "      <td>0</td>\n",
       "      <td>324.51</td>\n",
       "      <td>3</td>\n",
       "      <td>1</td>\n",
       "      <td>...</td>\n",
       "      <td>2019</td>\n",
       "      <td>10</td>\n",
       "      <td>7</td>\n",
       "      <td>2006</td>\n",
       "      <td>0</td>\n",
       "      <td>0</td>\n",
       "      <td>0</td>\n",
       "      <td>1</td>\n",
       "      <td>0.0</td>\n",
       "      <td>0.0</td>\n",
       "    </tr>\n",
       "    <tr>\n",
       "      <th>15785</th>\n",
       "      <td>1</td>\n",
       "      <td>3</td>\n",
       "      <td>1</td>\n",
       "      <td>1</td>\n",
       "      <td>1</td>\n",
       "      <td>0</td>\n",
       "      <td>1</td>\n",
       "      <td>432.43</td>\n",
       "      <td>3</td>\n",
       "      <td>1</td>\n",
       "      <td>...</td>\n",
       "      <td>2019</td>\n",
       "      <td>23</td>\n",
       "      <td>4</td>\n",
       "      <td>2007</td>\n",
       "      <td>0</td>\n",
       "      <td>0</td>\n",
       "      <td>1</td>\n",
       "      <td>0</td>\n",
       "      <td>0.0</td>\n",
       "      <td>0.0</td>\n",
       "    </tr>\n",
       "    <tr>\n",
       "      <th>15786</th>\n",
       "      <td>0</td>\n",
       "      <td>22</td>\n",
       "      <td>1</td>\n",
       "      <td>2</td>\n",
       "      <td>1</td>\n",
       "      <td>0</td>\n",
       "      <td>0</td>\n",
       "      <td>366.66</td>\n",
       "      <td>3</td>\n",
       "      <td>0</td>\n",
       "      <td>...</td>\n",
       "      <td>2019</td>\n",
       "      <td>30</td>\n",
       "      <td>4</td>\n",
       "      <td>1985</td>\n",
       "      <td>0</td>\n",
       "      <td>0</td>\n",
       "      <td>1</td>\n",
       "      <td>0</td>\n",
       "      <td>0.0</td>\n",
       "      <td>0.0</td>\n",
       "    </tr>\n",
       "  </tbody>\n",
       "</table>\n",
       "<p>15787 rows × 36 columns</p>\n",
       "</div>"
      ],
      "text/plain": [
       "       is_channel_broker  total_pol_year  total_pol_held  max_policies  \\\n",
       "0                      0               2               2             2   \n",
       "1                      0               2               1             1   \n",
       "2                      0               1               4             4   \n",
       "3                      1               5               1             1   \n",
       "4                      0               3               1             1   \n",
       "...                  ...             ...             ...           ...   \n",
       "15782                  0               8               1             2   \n",
       "15783                  1               3               2             2   \n",
       "15784                  1               5               1             2   \n",
       "15785                  1               3               1             1   \n",
       "15786                  0              22               1             2   \n",
       "\n",
       "       max_products  canceled_policies  is_halfyearly  net_premium  risk_type  \\\n",
       "0                 1                  1              0       240.76          3   \n",
       "1                 1                  1              1       367.97          3   \n",
       "2                 2                  0              0       291.90          3   \n",
       "3                 1                  0              0       303.28          2   \n",
       "4                 1                  1              0       333.30          3   \n",
       "...             ...                ...            ...          ...        ...   \n",
       "15782             1                  1              0       315.11          3   \n",
       "15783             1                  0              0       207.11          3   \n",
       "15784             1                  1              0       324.51          3   \n",
       "15785             1                  0              1       432.43          3   \n",
       "15786             1                  0              0       366.66          3   \n",
       "\n",
       "       is_urban  ...  next_renewal_year  license_issue_date_day  \\\n",
       "0             1  ...               2019                       3   \n",
       "1             0  ...               2017                      12   \n",
       "2             0  ...               2019                       2   \n",
       "3             1  ...               2019                      29   \n",
       "4             0  ...               2018                       2   \n",
       "...         ...  ...                ...                     ...   \n",
       "15782         0  ...               2018                       7   \n",
       "15783         0  ...               2018                      12   \n",
       "15784         1  ...               2019                      10   \n",
       "15785         1  ...               2019                      23   \n",
       "15786         0  ...               2019                      30   \n",
       "\n",
       "       license_issue_date_month  license_issue_date_year  is_youngin  \\\n",
       "0                             2                     2011           0   \n",
       "1                             8                     1966           0   \n",
       "2                             9                     1977           0   \n",
       "3                            10                     1980           0   \n",
       "4                             8                     2006           0   \n",
       "...                         ...                      ...         ...   \n",
       "15782                        12                     1984           0   \n",
       "15783                         7                     1990           0   \n",
       "15784                         7                     2006           0   \n",
       "15785                         4                     2007           0   \n",
       "15786                         4                     1985           0   \n",
       "\n",
       "       is_adult  is_middleaged  is_old   LC  HALC  \n",
       "0             1              0       0  0.0   0.0  \n",
       "1             0              0       1  0.0   0.0  \n",
       "2             0              1       0  0.0   0.0  \n",
       "3             0              1       0  0.0   0.0  \n",
       "4             1              0       0  0.0   0.0  \n",
       "...         ...            ...     ...  ...   ...  \n",
       "15782         0              1       0  0.0   0.0  \n",
       "15783         0              1       0  0.0   0.0  \n",
       "15784         0              0       1  0.0   0.0  \n",
       "15785         0              1       0  0.0   0.0  \n",
       "15786         0              1       0  0.0   0.0  \n",
       "\n",
       "[15787 rows x 36 columns]"
      ]
     },
     "execution_count": 54,
     "metadata": {},
     "output_type": "execute_result"
    }
   ],
   "source": [
    "df"
   ]
  },
  {
   "cell_type": "code",
   "execution_count": 55,
   "id": "da590e7b-1b30-4638-8f9f-9cdfa8e12f6b",
   "metadata": {},
   "outputs": [],
   "source": [
    "rf_CS = joblib.load('predict_CS.pkl')"
   ]
  },
  {
   "cell_type": "code",
   "execution_count": 56,
   "id": "1fc82be9-0428-42ce-9a56-4908dc9ef7bf",
   "metadata": {},
   "outputs": [],
   "source": [
    "# y_pred_CS = rf_CS.predict(df)\n",
    "y_pred_CS = rf_CS.predict_proba(df)[:, 1]"
   ]
  },
  {
   "cell_type": "code",
   "execution_count": 57,
   "id": "133d00cf-39be-4702-91a9-b51922eb80bd",
   "metadata": {},
   "outputs": [],
   "source": [
    "df['CS'] = y_pred_CS"
   ]
  },
  {
   "cell_type": "code",
   "execution_count": 58,
   "id": "fb5b0079-4f1f-4933-a4c9-0d4fe1bf7d10",
   "metadata": {},
   "outputs": [],
   "source": [
    "# df['CS'].value_counts("
   ]
  },
  {
   "cell_type": "markdown",
   "id": "e5b5db1a-0613-4fb8-8854-88d2e46012e8",
   "metadata": {},
   "source": [
    "### EXPORTING PREDICTIONS INTO A CSV "
   ]
  },
  {
   "cell_type": "code",
   "execution_count": 60,
   "id": "d87e2fe5-06df-4e8a-a8d2-4617ebedcaad",
   "metadata": {},
   "outputs": [],
   "source": [
    "df[['LC', 'HALC', 'CS']].to_csv(\"group_6_predictions.csv\", index=False)"
   ]
  },
  {
   "cell_type": "code",
   "execution_count": null,
   "id": "3d04fb5e-2b2a-4bc7-b32f-7cdc75237e51",
   "metadata": {},
   "outputs": [],
   "source": []
  }
 ],
 "metadata": {
  "kernelspec": {
   "display_name": "Python [conda env:base] *",
   "language": "python",
   "name": "conda-base-py"
  },
  "language_info": {
   "codemirror_mode": {
    "name": "ipython",
    "version": 3
   },
   "file_extension": ".py",
   "mimetype": "text/x-python",
   "name": "python",
   "nbconvert_exporter": "python",
   "pygments_lexer": "ipython3",
   "version": "3.12.7"
  }
 },
 "nbformat": 4,
 "nbformat_minor": 5
}
